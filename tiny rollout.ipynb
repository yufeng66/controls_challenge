{
 "cells": [
  {
   "cell_type": "markdown",
   "id": "07211dd3-6ff6-4a47-a8af-68335c8c78f8",
   "metadata": {},
   "source": [
    "# tiny rollout\n",
    "* roll out is checked with comma logic\n",
    "* used to hand tune a simple controller the linear combination of target, act and roll"
   ]
  },
  {
   "cell_type": "code",
   "execution_count": 1,
   "id": "dmlQePJD5b-Y",
   "metadata": {
    "colab": {
     "base_uri": "https://localhost:8080/"
    },
    "executionInfo": {
     "elapsed": 112823,
     "status": "ok",
     "timestamp": 1715282621670,
     "user": {
      "displayName": "Yu Feng",
      "userId": "04764823331412219920"
     },
     "user_tz": 240
    },
    "id": "dmlQePJD5b-Y",
    "outputId": "cdf5c247-44e0-48bb-9770-5ed3afe1db4a"
   },
   "outputs": [],
   "source": [
    "#!pip install onnx\n",
    "#!pip install onnx2torch"
   ]
  },
  {
   "cell_type": "code",
   "execution_count": 2,
   "id": "0d097a92-c050-42ef-8862-905b10b4c36f",
   "metadata": {
    "colab": {
     "base_uri": "https://localhost:8080/"
    },
    "executionInfo": {
     "elapsed": 13483,
     "status": "ok",
     "timestamp": 1715282635148,
     "user": {
      "displayName": "Yu Feng",
      "userId": "04764823331412219920"
     },
     "user_tz": 240
    },
    "id": "0d097a92-c050-42ef-8862-905b10b4c36f",
    "outputId": "33b992ab-9ab7-4e3c-d0e8-a87c8ded5401"
   },
   "outputs": [
    {
     "name": "stderr",
     "output_type": "stream",
     "text": [
      "C:\\Users\\yufen\\anaconda3\\envs\\torch23\\Lib\\site-packages\\onnxruntime\\capi\\onnxruntime_validation.py:26: UserWarning: Unsupported Windows version (11). ONNX Runtime supports Windows 10 and above, only.\n",
      "  warnings.warn(\n"
     ]
    },
    {
     "name": "stdout",
     "output_type": "stream",
     "text": [
      "torch version  2.3.0\n",
      "cuda\n"
     ]
    }
   ],
   "source": [
    "import numpy as np\n",
    "import pandas as pd\n",
    "import torch\n",
    "import torch.nn.functional as F\n",
    "import torch.optim as optim\n",
    "from matplotlib.pylab import plt\n",
    "import onnx\n",
    "import time\n",
    "from onnx2torch import convert\n",
    "\n",
    "print(\"torch version \",torch.__version__)\n",
    "device = torch.device(\"cuda\" if torch.cuda.is_available() else \"cpu\")\n",
    "#device=\"cpu\"\n",
    "print(device)"
   ]
  },
  {
   "cell_type": "code",
   "execution_count": 3,
   "id": "J629ozt343zN",
   "metadata": {
    "colab": {
     "base_uri": "https://localhost:8080/"
    },
    "executionInfo": {
     "elapsed": 18302,
     "status": "ok",
     "timestamp": 1715282653445,
     "user": {
      "displayName": "Yu Feng",
      "userId": "04764823331412219920"
     },
     "user_tz": 240
    },
    "id": "J629ozt343zN",
    "outputId": "cc9d9ff2-7e2f-4124-a4a1-ee5f81864f6f"
   },
   "outputs": [],
   "source": [
    "#from google.colab import drive\n",
    "#drive.mount('/content/gdrive')\n",
    "#with open('/content/gdrive/My Drive/foo.txt', 'w') as f:\n",
    "#  f.write('Hello Google Drive!')\n",
    "#!cat /content/gdrive/My\\ Drive/foo.txt"
   ]
  },
  {
   "cell_type": "code",
   "execution_count": 4,
   "id": "f1125863-668e-4a21-897f-1cf13d247baf",
   "metadata": {
    "executionInfo": {
     "elapsed": 2,
     "status": "ok",
     "timestamp": 1715282653595,
     "user": {
      "displayName": "Yu Feng",
      "userId": "04764823331412219920"
     },
     "user_tz": 240
    },
    "id": "f1125863-668e-4a21-897f-1cf13d247baf"
   },
   "outputs": [],
   "source": [
    "ACC_G = 9.81\n",
    "CONTROL_START_IDX = 100\n",
    "CONTEXT_LENGTH = 20\n",
    "VOCAB_SIZE = 1024\n",
    "LATACCEL_RANGE = [-5, 5]\n",
    "STEER_RANGE = [-2, 2]\n",
    "MAX_ACC_DELTA = 0.5\n",
    "DEL_T = 0.1\n",
    "LAT_ACCEL_COST_MULTIPLIER = 5.0\n",
    "\n",
    "temperature = 1.0\n",
    "DATA_LENGTH = 598"
   ]
  },
  {
   "cell_type": "code",
   "execution_count": 5,
   "id": "6f3f88e9-ff25-443a-965e-ded2fd334e6c",
   "metadata": {
    "colab": {
     "base_uri": "https://localhost:8080/"
    },
    "executionInfo": {
     "elapsed": 1297,
     "status": "ok",
     "timestamp": 1715282654891,
     "user": {
      "displayName": "Yu Feng",
      "userId": "04764823331412219920"
     },
     "user_tz": 240
    },
    "id": "6f3f88e9-ff25-443a-965e-ded2fd334e6c",
    "outputId": "51ae2dfa-6f74-4d33-cd30-bea9c1e7060b"
   },
   "outputs": [
    {
     "data": {
      "text/plain": [
       "GraphModule(\n",
       "  (initializers): Module()\n",
       "  (Identity_0): OnnxCopyIdentity()\n",
       "  (Identity_1): OnnxCopyIdentity()\n",
       "  (Identity_2): OnnxCopyIdentity()\n",
       "  (Shape): OnnxShape()\n",
       "  (Constant): OnnxConstant()\n",
       "  (Gather): OnnxGather()\n",
       "  (Constant_1): OnnxConstant()\n",
       "  (Cast): OnnxCast()\n",
       "  (Constant_2): OnnxConstant()\n",
       "  (Range): OnnxRange()\n",
       "  (Constant_3): OnnxConstant()\n",
       "  (Unsqueeze): OnnxUnsqueezeStaticAxes()\n",
       "  (Constant_4): OnnxConstant()\n",
       "  (Constant_13): OnnxConstant()\n",
       "  (Unsqueeze_1): OnnxUnsqueezeStaticAxes()\n",
       "  (Concat): OnnxConcat()\n",
       "  (Reshape): OnnxReshape()\n",
       "  (wt_embedding/MatMul): OnnxMatMul()\n",
       "  (wt_embedding/Add): OnnxBinaryMathOperation()\n",
       "  (wt2_embedding/Gather): OnnxGather()\n",
       "  (wp_embedding/Gather): OnnxGather()\n",
       "  (Concat_1): OnnxConcat()\n",
       "  (Add): OnnxBinaryMathOperation()\n",
       "  (h/0/attn/Shape): OnnxShape()\n",
       "  (h/0/attn/Constant): OnnxConstant()\n",
       "  (h/0/attn/Gather): OnnxGather()\n",
       "  (h/0/attn/Shape_1): OnnxShape()\n",
       "  (h/0/attn/Constant_1): OnnxConstant()\n",
       "  (h/0/attn/Gather_1): OnnxGather()\n",
       "  (h/0/attn/Shape_2): OnnxShape()\n",
       "  (h/0/attn/Constant_2): OnnxConstant()\n",
       "  (h/0/attn/Gather_2): OnnxGather()\n",
       "  (h/0/attn/layer_norm/ReduceMean): OnnxReduceStaticAxes()\n",
       "  (h/0/attn/layer_norm/Sub): OnnxBinaryMathOperation()\n",
       "  (h/0/attn/layer_norm/Constant): OnnxConstant()\n",
       "  (h/0/attn/layer_norm/Pow): OnnxPow()\n",
       "  (h/0/attn/layer_norm/ReduceMean_1): OnnxReduceStaticAxes()\n",
       "  (h/0/attn/layer_norm/Constant_1): OnnxConstant()\n",
       "  (h/0/attn/layer_norm/Add): OnnxBinaryMathOperation()\n",
       "  (h/0/attn/layer_norm/Sqrt): OnnxSqrt()\n",
       "  (h/0/attn/layer_norm/Div): OnnxBinaryMathOperation()\n",
       "  (h/0/attn/layer_norm/Mul): OnnxBinaryMathOperation()\n",
       "  (h/0/attn/layer_norm/Add_1): OnnxBinaryMathOperation()\n",
       "  (h/0/attn/c_attn/MatMul): OnnxMatMul()\n",
       "  (h/0/attn/c_attn/Add): OnnxBinaryMathOperation()\n",
       "  (h/0/attn/Constant_3): OnnxConstant()\n",
       "  (h/0/attn/Split): OnnxSplit13()\n",
       "  (h/0/attn/Constant_4): OnnxConstant()\n",
       "  (h/0/attn/Div): OnnxBinaryMathOperation()\n",
       "  (h/0/attn/Cast): OnnxCast()\n",
       "  (h/0/attn/Cast_1): OnnxCast()\n",
       "  (Constant_51): OnnxConstant()\n",
       "  (h/0/attn/Unsqueeze): OnnxUnsqueezeStaticAxes()\n",
       "  (Constant_53): OnnxConstant()\n",
       "  (h/0/attn/Unsqueeze_1): OnnxUnsqueezeStaticAxes()\n",
       "  (h/0/attn/Constant_5): OnnxConstant()\n",
       "  (Constant_56): OnnxConstant()\n",
       "  (h/0/attn/Unsqueeze_2): OnnxUnsqueezeStaticAxes()\n",
       "  (h/0/attn/Concat): OnnxConcat()\n",
       "  (Constant_59): OnnxConstant()\n",
       "  (h/0/attn/Unsqueeze_3): OnnxUnsqueezeStaticAxes()\n",
       "  (Constant_61): OnnxConstant()\n",
       "  (h/0/attn/Unsqueeze_4): OnnxUnsqueezeStaticAxes()\n",
       "  (h/0/attn/Constant_6): OnnxConstant()\n",
       "  (Constant_64): OnnxConstant()\n",
       "  (h/0/attn/Unsqueeze_5): OnnxUnsqueezeStaticAxes()\n",
       "  (h/0/attn/Concat_1): OnnxConcat()\n",
       "  (Constant_67): OnnxConstant()\n",
       "  (h/0/attn/Unsqueeze_6): OnnxUnsqueezeStaticAxes()\n",
       "  (Constant_69): OnnxConstant()\n",
       "  (h/0/attn/Unsqueeze_7): OnnxUnsqueezeStaticAxes()\n",
       "  (h/0/attn/Constant_7): OnnxConstant()\n",
       "  (Constant_72): OnnxConstant()\n",
       "  (h/0/attn/Unsqueeze_8): OnnxUnsqueezeStaticAxes()\n",
       "  (h/0/attn/Concat_2): OnnxConcat()\n",
       "  (h/0/attn/Reshape): OnnxReshape()\n",
       "  (h/0/attn/Transpose): OnnxTranspose()\n",
       "  (h/0/attn/Reshape_1): OnnxReshape()\n",
       "  (h/0/attn/Transpose_1): OnnxTranspose()\n",
       "  (h/0/attn/Reshape_2): OnnxReshape()\n",
       "  (h/0/attn/Transpose_2): OnnxTranspose()\n",
       "  (h/0/attn/Transpose_3): OnnxTranspose()\n",
       "  (h/0/attn/MatMul): OnnxMatMul()\n",
       "  (h/0/attn/Constant_8): OnnxConstant()\n",
       "  (h/0/attn/Mul): OnnxBinaryMathOperation()\n",
       "  (h/0/attn/Shape_3): OnnxShape()\n",
       "  (h/0/attn/Constant_9): OnnxConstant()\n",
       "  (h/0/attn/Constant_10): OnnxConstant()\n",
       "  (h/0/attn/Constant_11): OnnxConstant()\n",
       "  (h/0/attn/Slice): OnnxSlice()\n",
       "  (h/0/attn/Constant_12): OnnxConstant()\n",
       "  (h/0/attn/Squeeze): OnnxSqueezeDynamicAxes()\n",
       "  (h/0/attn/Shape_4): OnnxShape()\n",
       "  (h/0/attn/Constant_13): OnnxConstant()\n",
       "  (h/0/attn/Constant_14): OnnxConstant()\n",
       "  (h/0/attn/Constant_15): OnnxConstant()\n",
       "  (h/0/attn/Slice_1): OnnxSlice()\n",
       "  (h/0/attn/Constant_16): OnnxConstant()\n",
       "  (h/0/attn/Squeeze_1): OnnxSqueezeDynamicAxes()\n",
       "  (h/0/attn/Sub): OnnxBinaryMathOperation()\n",
       "  (h/0/attn/Constant_17): OnnxConstant()\n",
       "  (h/0/attn/Constant_18): OnnxConstant()\n",
       "  (h/0/attn/Unsqueeze_9): OnnxUnsqueezeStaticAxes()\n",
       "  (h/0/attn/Constant_19): OnnxConstant()\n",
       "  (h/0/attn/Unsqueeze_10): OnnxUnsqueezeStaticAxes()\n",
       "  (h/0/attn/Constant_20): OnnxConstant()\n",
       "  (h/0/attn/Slice_2): OnnxSlice()\n",
       "  (h/0/attn/Constant_21): OnnxConstant()\n",
       "  (h/0/attn/Constant_22): OnnxConstant()\n",
       "  (h/0/attn/Constant_23): OnnxConstant()\n",
       "  (h/0/attn/Unsqueeze_11): OnnxUnsqueezeStaticAxes()\n",
       "  (h/0/attn/Constant_24): OnnxConstant()\n",
       "  (h/0/attn/Slice_3): OnnxSlice()\n",
       "  (h/0/attn/Constant_25): OnnxConstant()\n",
       "  (h/0/attn/Equal): OnnxCompare()\n",
       "  (h/0/attn/Cast_2): OnnxCast()\n",
       "  (h/0/attn/Constant_26): OnnxConstant()\n",
       "  (h/0/attn/Where): OnnxWhere()\n",
       "  (h/0/attn/Softmax): Softmax(dim=-1)\n",
       "  (h/0/attn/MatMul_1): OnnxMatMul()\n",
       "  (h/0/attn/Transpose_4): OnnxTranspose()\n",
       "  (Constant_121): OnnxConstant()\n",
       "  (h/0/attn/Unsqueeze_12): OnnxUnsqueezeStaticAxes()\n",
       "  (Constant_123): OnnxConstant()\n",
       "  (h/0/attn/Unsqueeze_13): OnnxUnsqueezeStaticAxes()\n",
       "  (Constant_125): OnnxConstant()\n",
       "  (h/0/attn/Unsqueeze_14): OnnxUnsqueezeStaticAxes()\n",
       "  (h/0/attn/Concat_3): OnnxConcat()\n",
       "  (h/0/attn/Reshape_3): OnnxReshape()\n",
       "  (h/0/attn/c_proj/MatMul): OnnxMatMul()\n",
       "  (h/0/attn/c_proj/Add): OnnxBinaryMathOperation()\n",
       "  (h/0/Add): OnnxBinaryMathOperation()\n",
       "  (h/0/mlp/layer_norm/ReduceMean): OnnxReduceStaticAxes()\n",
       "  (h/0/mlp/layer_norm/Sub): OnnxBinaryMathOperation()\n",
       "  (h/0/mlp/layer_norm/Constant): OnnxConstant()\n",
       "  (h/0/mlp/layer_norm/Pow): OnnxPow()\n",
       "  (h/0/mlp/layer_norm/ReduceMean_1): OnnxReduceStaticAxes()\n",
       "  (h/0/mlp/layer_norm/Constant_1): OnnxConstant()\n",
       "  (h/0/mlp/layer_norm/Add): OnnxBinaryMathOperation()\n",
       "  (h/0/mlp/layer_norm/Sqrt): OnnxSqrt()\n",
       "  (h/0/mlp/layer_norm/Div): OnnxBinaryMathOperation()\n",
       "  (h/0/mlp/layer_norm/Mul): OnnxBinaryMathOperation()\n",
       "  (h/0/mlp/layer_norm/Add_1): OnnxBinaryMathOperation()\n",
       "  (h/0/mlp/c_fc/MatMul): OnnxMatMul()\n",
       "  (h/0/mlp/c_fc/Add): OnnxBinaryMathOperation()\n",
       "  (h/0/mlp/act/Mul): OnnxBinaryMathOperation()\n",
       "  (h/0/mlp/act/Mul_1): OnnxBinaryMathOperation()\n",
       "  (h/0/mlp/act/Constant): OnnxConstant()\n",
       "  (h/0/mlp/act/Mul_2): OnnxBinaryMathOperation()\n",
       "  (h/0/mlp/act/Add): OnnxBinaryMathOperation()\n",
       "  (h/0/mlp/act/Constant_1): OnnxConstant()\n",
       "  (h/0/mlp/act/Mul_3): OnnxBinaryMathOperation()\n",
       "  (h/0/mlp/act/Tanh): OnnxFunction()\n",
       "  (h/0/mlp/act/Constant_2): OnnxConstant()\n",
       "  (h/0/mlp/act/Add_1): OnnxBinaryMathOperation()\n",
       "  (h/0/mlp/act/Mul_4): OnnxBinaryMathOperation()\n",
       "  (h/0/mlp/act/Constant_3): OnnxConstant()\n",
       "  (h/0/mlp/act/Mul_5): OnnxBinaryMathOperation()\n",
       "  (h/0/mlp/c_proj/MatMul): OnnxMatMul()\n",
       "  (h/0/mlp/c_proj/Add): OnnxBinaryMathOperation()\n",
       "  (h/0/Add_1): OnnxBinaryMathOperation()\n",
       "  (h/1/attn/Shape): OnnxShape()\n",
       "  (h/1/attn/Constant): OnnxConstant()\n",
       "  (h/1/attn/Gather): OnnxGather()\n",
       "  (h/1/attn/Shape_1): OnnxShape()\n",
       "  (h/1/attn/Constant_1): OnnxConstant()\n",
       "  (h/1/attn/Gather_1): OnnxGather()\n",
       "  (h/1/attn/Shape_2): OnnxShape()\n",
       "  (h/1/attn/Constant_2): OnnxConstant()\n",
       "  (h/1/attn/Gather_2): OnnxGather()\n",
       "  (h/1/attn/layer_norm/ReduceMean): OnnxReduceStaticAxes()\n",
       "  (h/1/attn/layer_norm/Sub): OnnxBinaryMathOperation()\n",
       "  (h/1/attn/layer_norm/Constant): OnnxConstant()\n",
       "  (h/1/attn/layer_norm/Pow): OnnxPow()\n",
       "  (h/1/attn/layer_norm/ReduceMean_1): OnnxReduceStaticAxes()\n",
       "  (h/1/attn/layer_norm/Constant_1): OnnxConstant()\n",
       "  (h/1/attn/layer_norm/Add): OnnxBinaryMathOperation()\n",
       "  (h/1/attn/layer_norm/Sqrt): OnnxSqrt()\n",
       "  (h/1/attn/layer_norm/Div): OnnxBinaryMathOperation()\n",
       "  (h/1/attn/layer_norm/Mul): OnnxBinaryMathOperation()\n",
       "  (h/1/attn/layer_norm/Add_1): OnnxBinaryMathOperation()\n",
       "  (h/1/attn/c_attn/MatMul): OnnxMatMul()\n",
       "  (h/1/attn/c_attn/Add): OnnxBinaryMathOperation()\n",
       "  (h/1/attn/Constant_3): OnnxConstant()\n",
       "  (h/1/attn/Split): OnnxSplit13()\n",
       "  (h/1/attn/Constant_4): OnnxConstant()\n",
       "  (h/1/attn/Div): OnnxBinaryMathOperation()\n",
       "  (h/1/attn/Cast): OnnxCast()\n",
       "  (h/1/attn/Cast_1): OnnxCast()\n",
       "  (Constant_189): OnnxConstant()\n",
       "  (h/1/attn/Unsqueeze): OnnxUnsqueezeStaticAxes()\n",
       "  (Constant_191): OnnxConstant()\n",
       "  (h/1/attn/Unsqueeze_1): OnnxUnsqueezeStaticAxes()\n",
       "  (h/1/attn/Constant_5): OnnxConstant()\n",
       "  (Constant_194): OnnxConstant()\n",
       "  (h/1/attn/Unsqueeze_2): OnnxUnsqueezeStaticAxes()\n",
       "  (h/1/attn/Concat): OnnxConcat()\n",
       "  (Constant_197): OnnxConstant()\n",
       "  (h/1/attn/Unsqueeze_3): OnnxUnsqueezeStaticAxes()\n",
       "  (Constant_199): OnnxConstant()\n",
       "  (h/1/attn/Unsqueeze_4): OnnxUnsqueezeStaticAxes()\n",
       "  (h/1/attn/Constant_6): OnnxConstant()\n",
       "  (Constant_202): OnnxConstant()\n",
       "  (h/1/attn/Unsqueeze_5): OnnxUnsqueezeStaticAxes()\n",
       "  (h/1/attn/Concat_1): OnnxConcat()\n",
       "  (Constant_205): OnnxConstant()\n",
       "  (h/1/attn/Unsqueeze_6): OnnxUnsqueezeStaticAxes()\n",
       "  (Constant_207): OnnxConstant()\n",
       "  (h/1/attn/Unsqueeze_7): OnnxUnsqueezeStaticAxes()\n",
       "  (h/1/attn/Constant_7): OnnxConstant()\n",
       "  (Constant_210): OnnxConstant()\n",
       "  (h/1/attn/Unsqueeze_8): OnnxUnsqueezeStaticAxes()\n",
       "  (h/1/attn/Concat_2): OnnxConcat()\n",
       "  (h/1/attn/Reshape): OnnxReshape()\n",
       "  (h/1/attn/Transpose): OnnxTranspose()\n",
       "  (h/1/attn/Reshape_1): OnnxReshape()\n",
       "  (h/1/attn/Transpose_1): OnnxTranspose()\n",
       "  (h/1/attn/Reshape_2): OnnxReshape()\n",
       "  (h/1/attn/Transpose_2): OnnxTranspose()\n",
       "  (h/1/attn/Transpose_3): OnnxTranspose()\n",
       "  (h/1/attn/MatMul): OnnxMatMul()\n",
       "  (h/1/attn/Constant_8): OnnxConstant()\n",
       "  (h/1/attn/Mul): OnnxBinaryMathOperation()\n",
       "  (h/1/attn/Shape_3): OnnxShape()\n",
       "  (h/1/attn/Constant_9): OnnxConstant()\n",
       "  (h/1/attn/Constant_10): OnnxConstant()\n",
       "  (h/1/attn/Constant_11): OnnxConstant()\n",
       "  (h/1/attn/Slice): OnnxSlice()\n",
       "  (h/1/attn/Constant_12): OnnxConstant()\n",
       "  (h/1/attn/Squeeze): OnnxSqueezeDynamicAxes()\n",
       "  (h/1/attn/Shape_4): OnnxShape()\n",
       "  (h/1/attn/Constant_13): OnnxConstant()\n",
       "  (h/1/attn/Constant_14): OnnxConstant()\n",
       "  (h/1/attn/Constant_15): OnnxConstant()\n",
       "  (h/1/attn/Slice_1): OnnxSlice()\n",
       "  (h/1/attn/Constant_16): OnnxConstant()\n",
       "  (h/1/attn/Squeeze_1): OnnxSqueezeDynamicAxes()\n",
       "  (h/1/attn/Sub): OnnxBinaryMathOperation()\n",
       "  (h/1/attn/Constant_17): OnnxConstant()\n",
       "  (h/1/attn/Constant_18): OnnxConstant()\n",
       "  (h/1/attn/Unsqueeze_9): OnnxUnsqueezeStaticAxes()\n",
       "  (h/1/attn/Constant_19): OnnxConstant()\n",
       "  (h/1/attn/Unsqueeze_10): OnnxUnsqueezeStaticAxes()\n",
       "  (h/1/attn/Constant_20): OnnxConstant()\n",
       "  (h/1/attn/Slice_2): OnnxSlice()\n",
       "  (h/1/attn/Constant_21): OnnxConstant()\n",
       "  (h/1/attn/Constant_22): OnnxConstant()\n",
       "  (h/1/attn/Constant_23): OnnxConstant()\n",
       "  (h/1/attn/Unsqueeze_11): OnnxUnsqueezeStaticAxes()\n",
       "  (h/1/attn/Constant_24): OnnxConstant()\n",
       "  (h/1/attn/Slice_3): OnnxSlice()\n",
       "  (h/1/attn/Constant_25): OnnxConstant()\n",
       "  (h/1/attn/Equal): OnnxCompare()\n",
       "  (h/1/attn/Cast_2): OnnxCast()\n",
       "  (h/1/attn/Constant_26): OnnxConstant()\n",
       "  (h/1/attn/Where): OnnxWhere()\n",
       "  (h/1/attn/Softmax): Softmax(dim=-1)\n",
       "  (h/1/attn/MatMul_1): OnnxMatMul()\n",
       "  (h/1/attn/Transpose_4): OnnxTranspose()\n",
       "  (Constant_259): OnnxConstant()\n",
       "  (h/1/attn/Unsqueeze_12): OnnxUnsqueezeStaticAxes()\n",
       "  (Constant_261): OnnxConstant()\n",
       "  (h/1/attn/Unsqueeze_13): OnnxUnsqueezeStaticAxes()\n",
       "  (Constant_263): OnnxConstant()\n",
       "  (h/1/attn/Unsqueeze_14): OnnxUnsqueezeStaticAxes()\n",
       "  (h/1/attn/Concat_3): OnnxConcat()\n",
       "  (h/1/attn/Reshape_3): OnnxReshape()\n",
       "  (h/1/attn/c_proj/MatMul): OnnxMatMul()\n",
       "  (h/1/attn/c_proj/Add): OnnxBinaryMathOperation()\n",
       "  (h/1/Add): OnnxBinaryMathOperation()\n",
       "  (h/1/mlp/layer_norm/ReduceMean): OnnxReduceStaticAxes()\n",
       "  (h/1/mlp/layer_norm/Sub): OnnxBinaryMathOperation()\n",
       "  (h/1/mlp/layer_norm/Constant): OnnxConstant()\n",
       "  (h/1/mlp/layer_norm/Pow): OnnxPow()\n",
       "  (h/1/mlp/layer_norm/ReduceMean_1): OnnxReduceStaticAxes()\n",
       "  (h/1/mlp/layer_norm/Constant_1): OnnxConstant()\n",
       "  (h/1/mlp/layer_norm/Add): OnnxBinaryMathOperation()\n",
       "  (h/1/mlp/layer_norm/Sqrt): OnnxSqrt()\n",
       "  (h/1/mlp/layer_norm/Div): OnnxBinaryMathOperation()\n",
       "  (h/1/mlp/layer_norm/Mul): OnnxBinaryMathOperation()\n",
       "  (h/1/mlp/layer_norm/Add_1): OnnxBinaryMathOperation()\n",
       "  (h/1/mlp/c_fc/MatMul): OnnxMatMul()\n",
       "  (h/1/mlp/c_fc/Add): OnnxBinaryMathOperation()\n",
       "  (h/1/mlp/act/Mul): OnnxBinaryMathOperation()\n",
       "  (h/1/mlp/act/Mul_1): OnnxBinaryMathOperation()\n",
       "  (h/1/mlp/act/Constant): OnnxConstant()\n",
       "  (h/1/mlp/act/Mul_2): OnnxBinaryMathOperation()\n",
       "  (h/1/mlp/act/Add): OnnxBinaryMathOperation()\n",
       "  (h/1/mlp/act/Constant_1): OnnxConstant()\n",
       "  (h/1/mlp/act/Mul_3): OnnxBinaryMathOperation()\n",
       "  (h/1/mlp/act/Tanh): OnnxFunction()\n",
       "  (h/1/mlp/act/Constant_2): OnnxConstant()\n",
       "  (h/1/mlp/act/Add_1): OnnxBinaryMathOperation()\n",
       "  (h/1/mlp/act/Mul_4): OnnxBinaryMathOperation()\n",
       "  (h/1/mlp/act/Constant_3): OnnxConstant()\n",
       "  (h/1/mlp/act/Mul_5): OnnxBinaryMathOperation()\n",
       "  (h/1/mlp/c_proj/MatMul): OnnxMatMul()\n",
       "  (h/1/mlp/c_proj/Add): OnnxBinaryMathOperation()\n",
       "  (h/1/Add_1): OnnxBinaryMathOperation()\n",
       "  (h/2/attn/Shape): OnnxShape()\n",
       "  (h/2/attn/Constant): OnnxConstant()\n",
       "  (h/2/attn/Gather): OnnxGather()\n",
       "  (h/2/attn/Shape_1): OnnxShape()\n",
       "  (h/2/attn/Constant_1): OnnxConstant()\n",
       "  (h/2/attn/Gather_1): OnnxGather()\n",
       "  (h/2/attn/Shape_2): OnnxShape()\n",
       "  (h/2/attn/Constant_2): OnnxConstant()\n",
       "  (h/2/attn/Gather_2): OnnxGather()\n",
       "  (h/2/attn/layer_norm/ReduceMean): OnnxReduceStaticAxes()\n",
       "  (h/2/attn/layer_norm/Sub): OnnxBinaryMathOperation()\n",
       "  (h/2/attn/layer_norm/Constant): OnnxConstant()\n",
       "  (h/2/attn/layer_norm/Pow): OnnxPow()\n",
       "  (h/2/attn/layer_norm/ReduceMean_1): OnnxReduceStaticAxes()\n",
       "  (h/2/attn/layer_norm/Constant_1): OnnxConstant()\n",
       "  (h/2/attn/layer_norm/Add): OnnxBinaryMathOperation()\n",
       "  (h/2/attn/layer_norm/Sqrt): OnnxSqrt()\n",
       "  (h/2/attn/layer_norm/Div): OnnxBinaryMathOperation()\n",
       "  (h/2/attn/layer_norm/Mul): OnnxBinaryMathOperation()\n",
       "  (h/2/attn/layer_norm/Add_1): OnnxBinaryMathOperation()\n",
       "  (h/2/attn/c_attn/MatMul): OnnxMatMul()\n",
       "  (h/2/attn/c_attn/Add): OnnxBinaryMathOperation()\n",
       "  (h/2/attn/Constant_3): OnnxConstant()\n",
       "  (h/2/attn/Split): OnnxSplit13()\n",
       "  (h/2/attn/Constant_4): OnnxConstant()\n",
       "  (h/2/attn/Div): OnnxBinaryMathOperation()\n",
       "  (h/2/attn/Cast): OnnxCast()\n",
       "  (h/2/attn/Cast_1): OnnxCast()\n",
       "  (Constant_327): OnnxConstant()\n",
       "  (h/2/attn/Unsqueeze): OnnxUnsqueezeStaticAxes()\n",
       "  (Constant_329): OnnxConstant()\n",
       "  (h/2/attn/Unsqueeze_1): OnnxUnsqueezeStaticAxes()\n",
       "  (h/2/attn/Constant_5): OnnxConstant()\n",
       "  (Constant_332): OnnxConstant()\n",
       "  (h/2/attn/Unsqueeze_2): OnnxUnsqueezeStaticAxes()\n",
       "  (h/2/attn/Concat): OnnxConcat()\n",
       "  (Constant_335): OnnxConstant()\n",
       "  (h/2/attn/Unsqueeze_3): OnnxUnsqueezeStaticAxes()\n",
       "  (Constant_337): OnnxConstant()\n",
       "  (h/2/attn/Unsqueeze_4): OnnxUnsqueezeStaticAxes()\n",
       "  (h/2/attn/Constant_6): OnnxConstant()\n",
       "  (Constant_340): OnnxConstant()\n",
       "  (h/2/attn/Unsqueeze_5): OnnxUnsqueezeStaticAxes()\n",
       "  (h/2/attn/Concat_1): OnnxConcat()\n",
       "  (Constant_343): OnnxConstant()\n",
       "  (h/2/attn/Unsqueeze_6): OnnxUnsqueezeStaticAxes()\n",
       "  (Constant_345): OnnxConstant()\n",
       "  (h/2/attn/Unsqueeze_7): OnnxUnsqueezeStaticAxes()\n",
       "  (h/2/attn/Constant_7): OnnxConstant()\n",
       "  (Constant_348): OnnxConstant()\n",
       "  (h/2/attn/Unsqueeze_8): OnnxUnsqueezeStaticAxes()\n",
       "  (h/2/attn/Concat_2): OnnxConcat()\n",
       "  (h/2/attn/Reshape): OnnxReshape()\n",
       "  (h/2/attn/Transpose): OnnxTranspose()\n",
       "  (h/2/attn/Reshape_1): OnnxReshape()\n",
       "  (h/2/attn/Transpose_1): OnnxTranspose()\n",
       "  (h/2/attn/Reshape_2): OnnxReshape()\n",
       "  (h/2/attn/Transpose_2): OnnxTranspose()\n",
       "  (h/2/attn/Transpose_3): OnnxTranspose()\n",
       "  (h/2/attn/MatMul): OnnxMatMul()\n",
       "  (h/2/attn/Constant_8): OnnxConstant()\n",
       "  (h/2/attn/Mul): OnnxBinaryMathOperation()\n",
       "  (h/2/attn/Shape_3): OnnxShape()\n",
       "  (h/2/attn/Constant_9): OnnxConstant()\n",
       "  (h/2/attn/Constant_10): OnnxConstant()\n",
       "  (h/2/attn/Constant_11): OnnxConstant()\n",
       "  (h/2/attn/Slice): OnnxSlice()\n",
       "  (h/2/attn/Constant_12): OnnxConstant()\n",
       "  (h/2/attn/Squeeze): OnnxSqueezeDynamicAxes()\n",
       "  (h/2/attn/Shape_4): OnnxShape()\n",
       "  (h/2/attn/Constant_13): OnnxConstant()\n",
       "  (h/2/attn/Constant_14): OnnxConstant()\n",
       "  (h/2/attn/Constant_15): OnnxConstant()\n",
       "  (h/2/attn/Slice_1): OnnxSlice()\n",
       "  (h/2/attn/Constant_16): OnnxConstant()\n",
       "  (h/2/attn/Squeeze_1): OnnxSqueezeDynamicAxes()\n",
       "  (h/2/attn/Sub): OnnxBinaryMathOperation()\n",
       "  (h/2/attn/Constant_17): OnnxConstant()\n",
       "  (h/2/attn/Constant_18): OnnxConstant()\n",
       "  (h/2/attn/Unsqueeze_9): OnnxUnsqueezeStaticAxes()\n",
       "  (h/2/attn/Constant_19): OnnxConstant()\n",
       "  (h/2/attn/Unsqueeze_10): OnnxUnsqueezeStaticAxes()\n",
       "  (h/2/attn/Constant_20): OnnxConstant()\n",
       "  (h/2/attn/Slice_2): OnnxSlice()\n",
       "  (h/2/attn/Constant_21): OnnxConstant()\n",
       "  (h/2/attn/Constant_22): OnnxConstant()\n",
       "  (h/2/attn/Constant_23): OnnxConstant()\n",
       "  (h/2/attn/Unsqueeze_11): OnnxUnsqueezeStaticAxes()\n",
       "  (h/2/attn/Constant_24): OnnxConstant()\n",
       "  (h/2/attn/Slice_3): OnnxSlice()\n",
       "  (h/2/attn/Constant_25): OnnxConstant()\n",
       "  (h/2/attn/Equal): OnnxCompare()\n",
       "  (h/2/attn/Cast_2): OnnxCast()\n",
       "  (h/2/attn/Constant_26): OnnxConstant()\n",
       "  (h/2/attn/Where): OnnxWhere()\n",
       "  (h/2/attn/Softmax): Softmax(dim=-1)\n",
       "  (h/2/attn/MatMul_1): OnnxMatMul()\n",
       "  (h/2/attn/Transpose_4): OnnxTranspose()\n",
       "  (Constant_397): OnnxConstant()\n",
       "  (h/2/attn/Unsqueeze_12): OnnxUnsqueezeStaticAxes()\n",
       "  (Constant_399): OnnxConstant()\n",
       "  (h/2/attn/Unsqueeze_13): OnnxUnsqueezeStaticAxes()\n",
       "  (Constant_401): OnnxConstant()\n",
       "  (h/2/attn/Unsqueeze_14): OnnxUnsqueezeStaticAxes()\n",
       "  (h/2/attn/Concat_3): OnnxConcat()\n",
       "  (h/2/attn/Reshape_3): OnnxReshape()\n",
       "  (h/2/attn/c_proj/MatMul): OnnxMatMul()\n",
       "  (h/2/attn/c_proj/Add): OnnxBinaryMathOperation()\n",
       "  (h/2/Add): OnnxBinaryMathOperation()\n",
       "  (h/2/mlp/layer_norm/ReduceMean): OnnxReduceStaticAxes()\n",
       "  (h/2/mlp/layer_norm/Sub): OnnxBinaryMathOperation()\n",
       "  (h/2/mlp/layer_norm/Constant): OnnxConstant()\n",
       "  (h/2/mlp/layer_norm/Pow): OnnxPow()\n",
       "  (h/2/mlp/layer_norm/ReduceMean_1): OnnxReduceStaticAxes()\n",
       "  (h/2/mlp/layer_norm/Constant_1): OnnxConstant()\n",
       "  (h/2/mlp/layer_norm/Add): OnnxBinaryMathOperation()\n",
       "  (h/2/mlp/layer_norm/Sqrt): OnnxSqrt()\n",
       "  (h/2/mlp/layer_norm/Div): OnnxBinaryMathOperation()\n",
       "  (h/2/mlp/layer_norm/Mul): OnnxBinaryMathOperation()\n",
       "  (h/2/mlp/layer_norm/Add_1): OnnxBinaryMathOperation()\n",
       "  (h/2/mlp/c_fc/MatMul): OnnxMatMul()\n",
       "  (h/2/mlp/c_fc/Add): OnnxBinaryMathOperation()\n",
       "  (h/2/mlp/act/Mul): OnnxBinaryMathOperation()\n",
       "  (h/2/mlp/act/Mul_1): OnnxBinaryMathOperation()\n",
       "  (h/2/mlp/act/Constant): OnnxConstant()\n",
       "  (h/2/mlp/act/Mul_2): OnnxBinaryMathOperation()\n",
       "  (h/2/mlp/act/Add): OnnxBinaryMathOperation()\n",
       "  (h/2/mlp/act/Constant_1): OnnxConstant()\n",
       "  (h/2/mlp/act/Mul_3): OnnxBinaryMathOperation()\n",
       "  (h/2/mlp/act/Tanh): OnnxFunction()\n",
       "  (h/2/mlp/act/Constant_2): OnnxConstant()\n",
       "  (h/2/mlp/act/Add_1): OnnxBinaryMathOperation()\n",
       "  (h/2/mlp/act/Mul_4): OnnxBinaryMathOperation()\n",
       "  (h/2/mlp/act/Constant_3): OnnxConstant()\n",
       "  (h/2/mlp/act/Mul_5): OnnxBinaryMathOperation()\n",
       "  (h/2/mlp/c_proj/MatMul): OnnxMatMul()\n",
       "  (h/2/mlp/c_proj/Add): OnnxBinaryMathOperation()\n",
       "  (h/2/Add_1): OnnxBinaryMathOperation()\n",
       "  (h/3/attn/Shape): OnnxShape()\n",
       "  (h/3/attn/Constant): OnnxConstant()\n",
       "  (h/3/attn/Gather): OnnxGather()\n",
       "  (h/3/attn/Shape_1): OnnxShape()\n",
       "  (h/3/attn/Constant_1): OnnxConstant()\n",
       "  (h/3/attn/Gather_1): OnnxGather()\n",
       "  (h/3/attn/Shape_2): OnnxShape()\n",
       "  (h/3/attn/Constant_2): OnnxConstant()\n",
       "  (h/3/attn/Gather_2): OnnxGather()\n",
       "  (h/3/attn/layer_norm/ReduceMean): OnnxReduceStaticAxes()\n",
       "  (h/3/attn/layer_norm/Sub): OnnxBinaryMathOperation()\n",
       "  (h/3/attn/layer_norm/Constant): OnnxConstant()\n",
       "  (h/3/attn/layer_norm/Pow): OnnxPow()\n",
       "  (h/3/attn/layer_norm/ReduceMean_1): OnnxReduceStaticAxes()\n",
       "  (h/3/attn/layer_norm/Constant_1): OnnxConstant()\n",
       "  (h/3/attn/layer_norm/Add): OnnxBinaryMathOperation()\n",
       "  (h/3/attn/layer_norm/Sqrt): OnnxSqrt()\n",
       "  (h/3/attn/layer_norm/Div): OnnxBinaryMathOperation()\n",
       "  (h/3/attn/layer_norm/Mul): OnnxBinaryMathOperation()\n",
       "  (h/3/attn/layer_norm/Add_1): OnnxBinaryMathOperation()\n",
       "  (h/3/attn/c_attn/MatMul): OnnxMatMul()\n",
       "  (h/3/attn/c_attn/Add): OnnxBinaryMathOperation()\n",
       "  (h/3/attn/Constant_3): OnnxConstant()\n",
       "  (h/3/attn/Split): OnnxSplit13()\n",
       "  (h/3/attn/Constant_4): OnnxConstant()\n",
       "  (h/3/attn/Div): OnnxBinaryMathOperation()\n",
       "  (h/3/attn/Cast): OnnxCast()\n",
       "  (h/3/attn/Cast_1): OnnxCast()\n",
       "  (Constant_465): OnnxConstant()\n",
       "  (h/3/attn/Unsqueeze): OnnxUnsqueezeStaticAxes()\n",
       "  (Constant_467): OnnxConstant()\n",
       "  (h/3/attn/Unsqueeze_1): OnnxUnsqueezeStaticAxes()\n",
       "  (h/3/attn/Constant_5): OnnxConstant()\n",
       "  (Constant_470): OnnxConstant()\n",
       "  (h/3/attn/Unsqueeze_2): OnnxUnsqueezeStaticAxes()\n",
       "  (h/3/attn/Concat): OnnxConcat()\n",
       "  (Constant_473): OnnxConstant()\n",
       "  (h/3/attn/Unsqueeze_3): OnnxUnsqueezeStaticAxes()\n",
       "  (Constant_475): OnnxConstant()\n",
       "  (h/3/attn/Unsqueeze_4): OnnxUnsqueezeStaticAxes()\n",
       "  (h/3/attn/Constant_6): OnnxConstant()\n",
       "  (Constant_478): OnnxConstant()\n",
       "  (h/3/attn/Unsqueeze_5): OnnxUnsqueezeStaticAxes()\n",
       "  (h/3/attn/Concat_1): OnnxConcat()\n",
       "  (Constant_481): OnnxConstant()\n",
       "  (h/3/attn/Unsqueeze_6): OnnxUnsqueezeStaticAxes()\n",
       "  (Constant_483): OnnxConstant()\n",
       "  (h/3/attn/Unsqueeze_7): OnnxUnsqueezeStaticAxes()\n",
       "  (h/3/attn/Constant_7): OnnxConstant()\n",
       "  (Constant_486): OnnxConstant()\n",
       "  (h/3/attn/Unsqueeze_8): OnnxUnsqueezeStaticAxes()\n",
       "  (h/3/attn/Concat_2): OnnxConcat()\n",
       "  (h/3/attn/Reshape): OnnxReshape()\n",
       "  (h/3/attn/Transpose): OnnxTranspose()\n",
       "  (h/3/attn/Reshape_1): OnnxReshape()\n",
       "  (h/3/attn/Transpose_1): OnnxTranspose()\n",
       "  (h/3/attn/Reshape_2): OnnxReshape()\n",
       "  (h/3/attn/Transpose_2): OnnxTranspose()\n",
       "  (h/3/attn/Transpose_3): OnnxTranspose()\n",
       "  (h/3/attn/MatMul): OnnxMatMul()\n",
       "  (h/3/attn/Constant_8): OnnxConstant()\n",
       "  (h/3/attn/Mul): OnnxBinaryMathOperation()\n",
       "  (h/3/attn/Shape_3): OnnxShape()\n",
       "  (h/3/attn/Constant_9): OnnxConstant()\n",
       "  (h/3/attn/Constant_10): OnnxConstant()\n",
       "  (h/3/attn/Constant_11): OnnxConstant()\n",
       "  (h/3/attn/Slice): OnnxSlice()\n",
       "  (h/3/attn/Constant_12): OnnxConstant()\n",
       "  (h/3/attn/Squeeze): OnnxSqueezeDynamicAxes()\n",
       "  (h/3/attn/Shape_4): OnnxShape()\n",
       "  (h/3/attn/Constant_13): OnnxConstant()\n",
       "  (h/3/attn/Constant_14): OnnxConstant()\n",
       "  (h/3/attn/Constant_15): OnnxConstant()\n",
       "  (h/3/attn/Slice_1): OnnxSlice()\n",
       "  (h/3/attn/Constant_16): OnnxConstant()\n",
       "  (h/3/attn/Squeeze_1): OnnxSqueezeDynamicAxes()\n",
       "  (h/3/attn/Sub): OnnxBinaryMathOperation()\n",
       "  (h/3/attn/Constant_17): OnnxConstant()\n",
       "  (h/3/attn/Constant_18): OnnxConstant()\n",
       "  (h/3/attn/Unsqueeze_9): OnnxUnsqueezeStaticAxes()\n",
       "  (h/3/attn/Constant_19): OnnxConstant()\n",
       "  (h/3/attn/Unsqueeze_10): OnnxUnsqueezeStaticAxes()\n",
       "  (h/3/attn/Constant_20): OnnxConstant()\n",
       "  (h/3/attn/Slice_2): OnnxSlice()\n",
       "  (h/3/attn/Constant_21): OnnxConstant()\n",
       "  (h/3/attn/Constant_22): OnnxConstant()\n",
       "  (h/3/attn/Constant_23): OnnxConstant()\n",
       "  (h/3/attn/Unsqueeze_11): OnnxUnsqueezeStaticAxes()\n",
       "  (h/3/attn/Constant_24): OnnxConstant()\n",
       "  (h/3/attn/Slice_3): OnnxSlice()\n",
       "  (h/3/attn/Constant_25): OnnxConstant()\n",
       "  (h/3/attn/Equal): OnnxCompare()\n",
       "  (h/3/attn/Cast_2): OnnxCast()\n",
       "  (h/3/attn/Constant_26): OnnxConstant()\n",
       "  (h/3/attn/Where): OnnxWhere()\n",
       "  (h/3/attn/Softmax): Softmax(dim=-1)\n",
       "  (h/3/attn/MatMul_1): OnnxMatMul()\n",
       "  (h/3/attn/Transpose_4): OnnxTranspose()\n",
       "  (Constant_535): OnnxConstant()\n",
       "  (h/3/attn/Unsqueeze_12): OnnxUnsqueezeStaticAxes()\n",
       "  (Constant_537): OnnxConstant()\n",
       "  (h/3/attn/Unsqueeze_13): OnnxUnsqueezeStaticAxes()\n",
       "  (Constant_539): OnnxConstant()\n",
       "  (h/3/attn/Unsqueeze_14): OnnxUnsqueezeStaticAxes()\n",
       "  (h/3/attn/Concat_3): OnnxConcat()\n",
       "  (h/3/attn/Reshape_3): OnnxReshape()\n",
       "  (h/3/attn/c_proj/MatMul): OnnxMatMul()\n",
       "  (h/3/attn/c_proj/Add): OnnxBinaryMathOperation()\n",
       "  (h/3/Add): OnnxBinaryMathOperation()\n",
       "  (h/3/mlp/layer_norm/ReduceMean): OnnxReduceStaticAxes()\n",
       "  (h/3/mlp/layer_norm/Sub): OnnxBinaryMathOperation()\n",
       "  (h/3/mlp/layer_norm/Constant): OnnxConstant()\n",
       "  (h/3/mlp/layer_norm/Pow): OnnxPow()\n",
       "  (h/3/mlp/layer_norm/ReduceMean_1): OnnxReduceStaticAxes()\n",
       "  (h/3/mlp/layer_norm/Constant_1): OnnxConstant()\n",
       "  (h/3/mlp/layer_norm/Add): OnnxBinaryMathOperation()\n",
       "  (h/3/mlp/layer_norm/Sqrt): OnnxSqrt()\n",
       "  (h/3/mlp/layer_norm/Div): OnnxBinaryMathOperation()\n",
       "  (h/3/mlp/layer_norm/Mul): OnnxBinaryMathOperation()\n",
       "  (h/3/mlp/layer_norm/Add_1): OnnxBinaryMathOperation()\n",
       "  (h/3/mlp/c_fc/MatMul): OnnxMatMul()\n",
       "  (h/3/mlp/c_fc/Add): OnnxBinaryMathOperation()\n",
       "  (h/3/mlp/act/Mul): OnnxBinaryMathOperation()\n",
       "  (h/3/mlp/act/Mul_1): OnnxBinaryMathOperation()\n",
       "  (h/3/mlp/act/Constant): OnnxConstant()\n",
       "  (h/3/mlp/act/Mul_2): OnnxBinaryMathOperation()\n",
       "  (h/3/mlp/act/Add): OnnxBinaryMathOperation()\n",
       "  (h/3/mlp/act/Constant_1): OnnxConstant()\n",
       "  (h/3/mlp/act/Mul_3): OnnxBinaryMathOperation()\n",
       "  (h/3/mlp/act/Tanh): OnnxFunction()\n",
       "  (h/3/mlp/act/Constant_2): OnnxConstant()\n",
       "  (h/3/mlp/act/Add_1): OnnxBinaryMathOperation()\n",
       "  (h/3/mlp/act/Mul_4): OnnxBinaryMathOperation()\n",
       "  (h/3/mlp/act/Constant_3): OnnxConstant()\n",
       "  (h/3/mlp/act/Mul_5): OnnxBinaryMathOperation()\n",
       "  (h/3/mlp/c_proj/MatMul): OnnxMatMul()\n",
       "  (h/3/mlp/c_proj/Add): OnnxBinaryMathOperation()\n",
       "  (h/3/Add_1): OnnxBinaryMathOperation()\n",
       "  (layer_norm_f/ReduceMean): OnnxReduceStaticAxes()\n",
       "  (layer_norm_f/Sub): OnnxBinaryMathOperation()\n",
       "  (layer_norm_f/Constant): OnnxConstant()\n",
       "  (layer_norm_f/Pow): OnnxPow()\n",
       "  (layer_norm_f/ReduceMean_1): OnnxReduceStaticAxes()\n",
       "  (layer_norm_f/Constant_1): OnnxConstant()\n",
       "  (layer_norm_f/Add): OnnxBinaryMathOperation()\n",
       "  (layer_norm_f/Sqrt): OnnxSqrt()\n",
       "  (layer_norm_f/Div): OnnxBinaryMathOperation()\n",
       "  (layer_norm_f/Mul): OnnxBinaryMathOperation()\n",
       "  (layer_norm_f/Add_1): OnnxBinaryMathOperation()\n",
       "  (lm_head/MatMul): OnnxMatMul()\n",
       ")"
      ]
     },
     "execution_count": 5,
     "metadata": {},
     "output_type": "execute_result"
    }
   ],
   "source": [
    "# Path to ONNX model\n",
    "#onnx_model_path = \"/content/gdrive/My Drive/colab_data/tinyphysics.onnx\"\n",
    "onnx_model_path = \"models/tinyphysics.onnx\"\n",
    "onnx_model = onnx.load(onnx_model_path)\n",
    "\n",
    "torch_model = convert(onnx_model).to(device)\n",
    "torch_model.eval()\n",
    "\n"
   ]
  },
  {
   "cell_type": "code",
   "execution_count": 6,
   "id": "7436f8e0-c7c7-41e5-9288-5001dde5d1ec",
   "metadata": {
    "colab": {
     "base_uri": "https://localhost:8080/"
    },
    "executionInfo": {
     "elapsed": 15,
     "status": "ok",
     "timestamp": 1715282654891,
     "user": {
      "displayName": "Yu Feng",
      "userId": "04764823331412219920"
     },
     "user_tz": 240
    },
    "id": "7436f8e0-c7c7-41e5-9288-5001dde5d1ec",
    "outputId": "ddbce8b5-bc68-441d-f5ad-514dd28f4de0"
   },
   "outputs": [
    {
     "name": "stdout",
     "output_type": "stream",
     "text": [
      "Input shape 1: [0, 20, 4]\n"
     ]
    }
   ],
   "source": [
    "input_shape = onnx_model.graph.input[0].type.tensor_type.shape.dim\n",
    "input_shape = [dim.dim_value for dim in input_shape]\n",
    "print(\"Input shape 1:\", input_shape)"
   ]
  },
  {
   "cell_type": "code",
   "execution_count": 7,
   "id": "bef40489-37ed-4784-b6ff-2a7af4b2c23a",
   "metadata": {
    "colab": {
     "base_uri": "https://localhost:8080/"
    },
    "executionInfo": {
     "elapsed": 3,
     "status": "ok",
     "timestamp": 1715282654891,
     "user": {
      "displayName": "Yu Feng",
      "userId": "04764823331412219920"
     },
     "user_tz": 240
    },
    "id": "bef40489-37ed-4784-b6ff-2a7af4b2c23a",
    "outputId": "e328c995-f429-4216-ba70-9dd99475a89b"
   },
   "outputs": [
    {
     "name": "stdout",
     "output_type": "stream",
     "text": [
      "Input shape 2: [0, 20]\n"
     ]
    }
   ],
   "source": [
    "input_shape = onnx_model.graph.input[1].type.tensor_type.shape.dim\n",
    "input_shape = [dim.dim_value for dim in input_shape]\n",
    "print(\"Input shape 2:\", input_shape)"
   ]
  },
  {
   "cell_type": "code",
   "execution_count": 8,
   "id": "7a319e2e-b6d1-42d7-964f-df6717263e60",
   "metadata": {
    "colab": {
     "base_uri": "https://localhost:8080/"
    },
    "executionInfo": {
     "elapsed": 2867,
     "status": "ok",
     "timestamp": 1715282657756,
     "user": {
      "displayName": "Yu Feng",
      "userId": "04764823331412219920"
     },
     "user_tz": 240
    },
    "id": "7a319e2e-b6d1-42d7-964f-df6717263e60",
    "outputId": "90c9654f-9a8f-4660-c487-5f08439dc202"
   },
   "outputs": [
    {
     "name": "stdout",
     "output_type": "stream",
     "text": [
      "(19945, 598, 6)\n"
     ]
    }
   ],
   "source": [
    "#data=np.load(\"/content/gdrive/My Drive/colab_data/data32.npy\")\n",
    "data=np.load(\"data32.npy\")\n",
    "print(data.shape)"
   ]
  },
  {
   "cell_type": "markdown",
   "id": "839698bb-85d2-4969-ad63-6f9bd0e6a2eb",
   "metadata": {
    "id": "839698bb-85d2-4969-ad63-6f9bd0e6a2eb"
   },
   "source": [
    "19945 path, 55 got discarded,\n",
    "598 time step, each 0.1 second, last 2 time step got discard since it is missing for a lot files\n",
    "6 date field,  data are t, vEgo, aEgo, roll, targetLateralAcceleration, steerCommand\n",
    "roll is in angle, need to convert to accelation with sin()*9.81\n",
    "also need to tokenize the steercommand\n"
   ]
  },
  {
   "cell_type": "code",
   "execution_count": 9,
   "id": "eda4172f-8d3a-4519-a1a0-050dedc9de35",
   "metadata": {
    "executionInfo": {
     "elapsed": 212,
     "status": "ok",
     "timestamp": 1715282657966,
     "user": {
      "displayName": "Yu Feng",
      "userId": "04764823331412219920"
     },
     "user_tz": 240
    },
    "id": "eda4172f-8d3a-4519-a1a0-050dedc9de35"
   },
   "outputs": [],
   "source": [
    "data[:,:,3]=np.sin(data[:,:,3]) * ACC_G"
   ]
  },
  {
   "cell_type": "code",
   "execution_count": 10,
   "id": "25baa3fa-1136-4895-a470-41147d246631",
   "metadata": {
    "executionInfo": {
     "elapsed": 3,
     "status": "ok",
     "timestamp": 1715282657966,
     "user": {
      "displayName": "Yu Feng",
      "userId": "04764823331412219920"
     },
     "user_tz": 240
    },
    "id": "25baa3fa-1136-4895-a470-41147d246631"
   },
   "outputs": [],
   "source": [
    "data_tensor=torch.from_numpy(data).float().to(device)"
   ]
  },
  {
   "cell_type": "code",
   "execution_count": 11,
   "id": "d83y1uLEBW27",
   "metadata": {
    "executionInfo": {
     "elapsed": 3,
     "status": "ok",
     "timestamp": 1715282657967,
     "user": {
      "displayName": "Yu Feng",
      "userId": "04764823331412219920"
     },
     "user_tz": 240
    },
    "id": "d83y1uLEBW27"
   },
   "outputs": [],
   "source": [
    "# add a dimension to split the first index by batch number and path.\n",
    "\n",
    "# for training will have 1024 path per batch\n",
    "# will only train on the first 16 batch scenario, the reslt will be validation\n",
    "# issues with batch 7 and batch 11, will skip\n",
    "\n",
    "# the tensor calculated in this cell shall not be updated from now on\n",
    "# everytime a slice of the tensor are used elsewhere, a clone shall be made\n",
    "batch_size = 5000\n",
    "batch_count = 1\n",
    "\n",
    "data_t = data_tensor[:batch_size*batch_count]\n",
    "data_v = data_tensor[batch_size*batch_count:]\n",
    "data_t = data_t.view(batch_count,batch_size,DATA_LENGTH,6)"
   ]
  },
  {
   "cell_type": "code",
   "execution_count": 12,
   "id": "4mRQs3lzdAgM",
   "metadata": {
    "colab": {
     "base_uri": "https://localhost:8080/"
    },
    "executionInfo": {
     "elapsed": 3,
     "status": "ok",
     "timestamp": 1715282657967,
     "user": {
      "displayName": "Yu Feng",
      "userId": "04764823331412219920"
     },
     "user_tz": 240
    },
    "id": "4mRQs3lzdAgM",
    "outputId": "98cb88e1-a49a-42fc-8ed6-8e24b5822fa6"
   },
   "outputs": [
    {
     "data": {
      "text/plain": [
       "torch.Size([1, 5000, 598, 6])"
      ]
     },
     "execution_count": 12,
     "metadata": {},
     "output_type": "execute_result"
    }
   ],
   "source": [
    "data_t.shape"
   ]
  },
  {
   "cell_type": "code",
   "execution_count": 13,
   "id": "a57149e1-4b49-4caa-b7e0-cd8ca143203e",
   "metadata": {},
   "outputs": [],
   "source": [
    "# all the following history list have tensor inside, the first dimension should be 1024 for batch size\n",
    "state_history=[]\n",
    "target_lataccel_history=[]\n",
    "\n",
    "#follow State = namedtuple('State', ['roll_lataccel', 'v_ego', 'a_ego']) for defination\n",
    "for step_idx in range(DATA_LENGTH):\n",
    "    target_lataccel_history.append(data_t[...,step_idx,4].clone())\n",
    "    state=torch.zeros((batch_count,batch_size,3),device=device)\n",
    "    state[..., 0]=data_t[..., step_idx, 3]\n",
    "    state[..., 1]=data_t[..., step_idx, 1]\n",
    "    state[..., 2]=data_t[..., step_idx, 2]\n",
    "    state_history.append(state)\n",
    "    del state"
   ]
  },
  {
   "cell_type": "code",
   "execution_count": 14,
   "id": "3c22f667-6706-4dfb-b845-26e1e6315984",
   "metadata": {},
   "outputs": [],
   "source": [
    "x = torch.tensor([0.4, 0.1, 0.35])\n",
    "\n",
    "def simple_is_good(target, act, roll):\n",
    "    return x[0] * target + x[1] * (target-act ) - x[2]*roll"
   ]
  },
  {
   "cell_type": "code",
   "execution_count": 15,
   "id": "bb38b7f7-aa0f-494c-b3cf-234d8cf5dc2b",
   "metadata": {},
   "outputs": [
    {
     "name": "stdout",
     "output_type": "stream",
     "text": [
      "0 tensor([0.4000, 0.1000, 0.3500]) 4.48054313659668 29.731603622436523 52.13431930541992\n",
      "CPU times: total: 1min 5s\n",
      "Wall time: 1min 51s\n"
     ]
    }
   ],
   "source": [
    "%%time\n",
    "\n",
    "for b in range(batch_count):\n",
    "    \n",
    "    if b== 7 or b == 11 :\n",
    "        continue   \n",
    "    \n",
    "    current_lataccel_history=[]\n",
    "    token_lataccel_history=[]    # this is the tokenized current_lataccel_history, 1 to 1 mapping\n",
    "    action_history=[]\n",
    "        \n",
    "    for step_idx in range(CONTROL_START_IDX):\n",
    "        action_history.append(data_t[b,:,step_idx,5].clone())\n",
    "    \n",
    "    for step_idx in range(CONTROL_START_IDX):\n",
    "        current_lataccel_history.append(data_t[b,...,step_idx,4].clone()) # use target for actual before control start\n",
    "        token_lataccel_history.append(torch.round((current_lataccel_history[-1]+5)*1023/10+0.4999).int()) #encoder\n",
    "        \n",
    "    for step_idx in range(CONTEXT_LENGTH, DATA_LENGTH):\n",
    "    \n",
    "        if step_idx >= CONTROL_START_IDX:\n",
    "            \n",
    "            #action=(target_lataccel_history[step_idx][b]-current_lataccel_history[-1])*0.3 # simple controller\n",
    "            #action=torch.zeros_like(current_lataccel_history[-1]) # zero controller\n",
    "            action=simple_is_good(target_lataccel_history[step_idx][b],\n",
    "                                  current_lataccel_history[-1],\n",
    "                                  state_history[step_idx][b,:,0])\n",
    "            action_history.append(action)\n",
    "    \n",
    "        action = torch.stack(action_history[step_idx + 1 - CONTEXT_LENGTH : step_idx + 1],1)\n",
    "        state = torch.stack([tensor[b] for tensor in state_history[step_idx + 1 - CONTEXT_LENGTH : step_idx + 1]],1)\n",
    "        action=action.unsqueeze(-1)\n",
    "        input1=torch.cat((action, state), dim=-1)\n",
    "        input2 = torch.stack(token_lataccel_history[step_idx - CONTEXT_LENGTH : step_idx],1)\n",
    "        o1 =torch_model(input1, input2)\n",
    "    \n",
    "        probs = F.softmax(o1 / temperature, dim=-1)\n",
    "\n",
    "        # original method, won't pass the gradient \n",
    "        sample = torch.multinomial(probs[:, -1], num_samples=1).squeeze(1) \n",
    "        pred = -5.0 + sample / 102.3 # decoder :)\n",
    "        \n",
    "        current_lataccel=current_lataccel_history[-1]\n",
    "        pred = torch.clip(pred, current_lataccel - MAX_ACC_DELTA, current_lataccel + MAX_ACC_DELTA)\n",
    "\n",
    "        token_lataccel=((pred + 5) * 1023 / 10 + 0.4999).int()\n",
    "        token_lataccel=torch.clip(token_lataccel, 0, 1023)        \n",
    "        \n",
    "        if step_idx >= CONTROL_START_IDX:\n",
    "            current_lataccel_history.append(pred)\n",
    "            token_lataccel_history.append(token_lataccel) \n",
    "\n",
    "    y1=torch.stack(current_lataccel_history,dim=1)[:,CONTROL_START_IDX:]\n",
    "    y2=data_t[b,:,CONTROL_START_IDX:,4]\n",
    "    \n",
    "    lat_accel_cost = torch.mean((y1 - y2)**2) * 100\n",
    "    jerk_cost = torch.mean((torch.diff(y1) / DEL_T)**2) * 100\n",
    "    total_cost = (lat_accel_cost * LAT_ACCEL_COST_MULTIPLIER) + jerk_cost\n",
    "\n",
    "    print(b, x, lat_accel_cost.item(),jerk_cost.item(),total_cost.item())    "
   ]
  },
  {
   "cell_type": "code",
   "execution_count": 16,
   "id": "e2791b25-bc9c-4a9b-8871-6d8c43b05d51",
   "metadata": {},
   "outputs": [],
   "source": [
    "#np.savetxt(\"y1.txt\",y1[0].to(\"cpu\").detach().numpy())"
   ]
  },
  {
   "cell_type": "code",
   "execution_count": 20,
   "id": "a8b633ae-9e16-42e9-a32a-e969492c44b1",
   "metadata": {},
   "outputs": [
    {
     "data": {
      "image/png": "[encoded data removed]",
      "text/plain": [
       "<Figure size 640x480 with 1 Axes>"
      ]
     },
     "metadata": {},
     "output_type": "display_data"
    }
   ],
   "source": [
    "p=0\n",
    "\n",
    "plt.plot(y2[p].to(\"cpu\").detach().numpy())\n",
    "plt.plot(y1[p].to(\"cpu\").detach().numpy())\n",
    "plt.legend([\"target\",\"act\"])\n",
    "plt.grid()\n"
   ]
  },
  {
   "cell_type": "code",
   "execution_count": null,
   "id": "14d41aa8-3220-4aaa-a56c-9642694851b8",
   "metadata": {},
   "outputs": [],
   "source": []
  }
 ],
 "metadata": {
  "colab": {
   "provenance": [
    {
     "file_id": "18gvaSxzgGdlcxPCk5h51TAnjLlYmVJJQ",
     "timestamp": 1715281279650
    }
   ]
  },
  "kernelspec": {
   "display_name": "Python 3 (ipykernel)",
   "language": "python",
   "name": "python3"
  },
  "language_info": {
   "codemirror_mode": {
    "name": "ipython",
    "version": 3
   },
   "file_extension": ".py",
   "mimetype": "text/x-python",
   "name": "python",
   "nbconvert_exporter": "python",
   "pygments_lexer": "ipython3",
   "version": "3.12.3"
  }
 },
 "nbformat": 4,
 "nbformat_minor": 5
}
